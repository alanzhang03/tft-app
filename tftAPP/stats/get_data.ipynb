{
 "cells": [
  {
   "cell_type": "code",
   "execution_count": 2,
   "metadata": {},
   "outputs": [],
   "source": [
    "api_key = 'RGAPI-426e6ce2-ad6c-48df-94f2-f21f59b9c156'"
   ]
  },
  {
   "cell_type": "code",
   "execution_count": 3,
   "metadata": {},
   "outputs": [
    {
     "name": "stderr",
     "output_type": "stream",
     "text": [
      "/var/folders/0y/sv7y2fxn4nj33w_6ny49q83w0000gn/T/ipykernel_51770/1916509563.py:2: DeprecationWarning: \n",
      "Pyarrow will become a required dependency of pandas in the next major release of pandas (pandas 3.0),\n",
      "(to allow more performant data types, such as the Arrow string type, and better interoperability with other libraries)\n",
      "but was not found to be installed on your system.\n",
      "If this would cause problems for you,\n",
      "please provide us feedback at https://github.com/pandas-dev/pandas/issues/54466\n",
      "        \n",
      "  import pandas as pd\n"
     ]
    }
   ],
   "source": [
    "import requests\n",
    "import pandas as pd\n",
    "import numpy as np\n",
    "\n",
    "api_url = 'https://na1.api.riotgames.com/tft/league/v1/entries/DIAMOND/IV?queue=RANKED_TFT&page=100'\n",
    "\n",
    "api_url = api_url + '&api_key=' + api_key\n"
   ]
  },
  {
   "cell_type": "code",
   "execution_count": 31,
   "metadata": {},
   "outputs": [],
   "source": [
    "d4_response = requests.get(api_url)"
   ]
  },
  {
   "cell_type": "code",
   "execution_count": 116,
   "metadata": {},
   "outputs": [
    {
     "name": "stdout",
     "output_type": "stream",
     "text": [
      "1\n",
      "2\n",
      "3\n",
      "4\n",
      "5\n",
      "6\n",
      "7\n",
      "8\n",
      "9\n",
      "10\n",
      "11\n",
      "12\n",
      "13\n",
      "14\n",
      "15\n",
      "16\n",
      "17\n",
      "18\n",
      "19\n",
      "20\n",
      "21\n",
      "22\n",
      "23\n",
      "24\n",
      "25\n",
      "26\n",
      "27\n",
      "28\n",
      "29\n",
      "30\n",
      "31\n",
      "32\n",
      "33\n",
      "34\n",
      "35\n",
      "36\n",
      "37\n",
      "38\n",
      "39\n",
      "40\n",
      "41\n",
      "42\n",
      "43\n",
      "44\n",
      "45\n",
      "46\n",
      "47\n",
      "48\n"
     ]
    }
   ],
   "source": [
    "# loop through every user in diamond 4 and add their names into a dataframe\n",
    "page_num = 1\n",
    "diamond_puuid = pd.DataFrame([])\n",
    "while True:\n",
    "    api_url = 'https://na1.api.riotgames.com/tft/league/v1/entries/DIAMOND/IV?queue=RANKED_TFT&page=' + str(page_num)\n",
    "    api_url = api_url + '&api_key=' + api_key\n",
    "    response = requests.get(api_url).json()\n",
    "    if(response != []): \n",
    "        df = pd.DataFrame(response)\n",
    "        df1 = df.loc[:, df.columns.intersection(['puuid'])]\n",
    "        diamond_puuid = pd.concat([diamond_puuid, df1], axis=0)\n",
    "    else:\n",
    "        break\n",
    "\n",
    "    page_num += 1\n"
   ]
  },
  {
   "cell_type": "code",
   "execution_count": 117,
   "metadata": {},
   "outputs": [
    {
     "name": "stdout",
     "output_type": "stream",
     "text": [
      "                                               puuid\n",
      "0  xAHUx3ABXJAB6CJvwk3I4f_fs59yufLEKIZ99o4N5dI0lo...\n",
      "1  5CpXXSb9wmxCmvl-nJoc97HCqkegjSBtJmHUsJahpv4BXm...\n",
      "2  OwBCsQUKzIhw11OcYuph1hmltOZAroDVlqFcmnFJwgzRNV...\n",
      "3  c1Khe6uMdUMGs1JLRlCoMucPiMmlc9vdyAJq7xGvZQQydI...\n",
      "4  XQnpgeSHnXvLlqDYClsGRdVrP7TQdj9Ir_aTPwi85hylLt...\n",
      "9496\n"
     ]
    }
   ],
   "source": [
    "print(diamond_puuid.head(5))\n",
    "# print(diamond_summoner_names.tail(5))\n",
    "print(diamond_puuid.size)"
   ]
  },
  {
   "cell_type": "code",
   "execution_count": 4,
   "metadata": {},
   "outputs": [
    {
     "name": "stdout",
     "output_type": "stream",
     "text": [
      "sleeping 120s\n",
      "sleeping 120s\n"
     ]
    }
   ],
   "source": [
    "## get the puuids of the top 250 players in north america\n",
    "\n",
    "import time\n",
    "\n",
    "api_url = 'https://na1.api.riotgames.com/tft/league/v1/challenger?queue=RANKED_TFT'\n",
    "api_url = api_url + '&api_key=' + api_key\n",
    "challenger_players_response = requests.get(api_url).json()\n",
    "challenger_summoner_ids = [challenger_players_response['entries'][i]['summonerId'] for i in range(0, len(challenger_players_response['entries']))]\n",
    "challenger_puuids = []\n",
    "\n",
    "count = 1\n",
    "for id in challenger_summoner_ids:\n",
    "    summoner_url = 'https://na1.api.riotgames.com/tft/summoner/v1/summoners/'+ id + '?api_key=' + api_key\n",
    "    ## delete when have production key\n",
    "    if count % 100 == 0:\n",
    "        time.sleep(120)\n",
    "        print(\"sleeping 120s\")\n",
    "    r = requests.get(summoner_url).json()\n",
    "    challenger_puuids.append(r['puuid'])\n",
    "    count += 1"
   ]
  },
  {
   "cell_type": "code",
   "execution_count": 209,
   "metadata": {},
   "outputs": [
    {
     "name": "stdout",
     "output_type": "stream",
     "text": [
      "250\n"
     ]
    }
   ],
   "source": [
    "print(len(challenger_puuids))"
   ]
  },
  {
   "cell_type": "code",
   "execution_count": 5,
   "metadata": {},
   "outputs": [
    {
     "name": "stdout",
     "output_type": "stream",
     "text": [
      "sleeping 120s\n",
      "sleeping 120s\n"
     ]
    }
   ],
   "source": [
    "## get a list of all match ids within the last hour\n",
    "import time\n",
    "recent_match_ids = []\n",
    "start_time = int(time.time()) - 36000\n",
    "\n",
    "##\n",
    "count = 1\n",
    "for puuid in challenger_puuids:\n",
    "    api_url_matches = 'https://americas.api.riotgames.com/tft/match/v1/matches/by-puuid/' + puuid + '/ids?start=0&startTime=' + str(start_time) + '&count=20&api_key=' + api_key\n",
    "    r = requests.get(api_url_matches).json()\n",
    "    recent_match_ids = list(set(recent_match_ids + r))\n",
    "\n",
    "    ## delete when have production key\n",
    "    if count % 100 == 0:\n",
    "        time.sleep(120)\n",
    "        print(\"sleeping 120s\")\n",
    "    count += 1\n",
    "    "
   ]
  },
  {
   "cell_type": "code",
   "execution_count": 6,
   "metadata": {},
   "outputs": [
    {
     "name": "stdout",
     "output_type": "stream",
     "text": [
      "['NA1_4905653528', 'NA1_4905747867', 'NA1_4905731855', 'NA1_4905684888', 'NA1_4905572498', 'NA1_4905609997', 'NA1_4905761282', 'NA1_4905673038', 'NA1_4905701465', 'NA1_4905700198', 'NA1_4905713163', 'NA1_4905696478', 'NA1_4905566476', 'NA1_4905595661', 'NA1_4905639835', 'NA1_4905637682', 'NA1_4905694395', 'NA1_4905743665', 'NA1_4905574484', 'NA1_4905752197', 'NA1_4905643388', 'NA1_4905769436', 'NA1_4905550591', 'NA1_4905659111', 'NA1_4905707626', 'NA1_4905753920', 'NA1_4905723059', 'NA1_4905603838', 'NA1_4905768750', 'NA1_4905540470', 'NA1_4905601485', 'NA1_4905684014', 'NA1_4905700624', 'NA1_4905732378', 'NA1_4905559478', 'NA1_4905571935', 'NA1_4905610517', 'NA1_4905616147', 'NA1_4905725243', 'NA1_4905578715', 'NA1_4905628754', 'NA1_4905630062', 'NA1_4905751913', 'NA1_4905576941', 'NA1_4905686069', 'NA1_4905681670', 'NA1_4905728421', 'NA1_4905574734', 'NA1_4905590886', 'NA1_4905662843', 'NA1_4905753585', 'NA1_4905765804', 'NA1_4905595900', 'NA1_4905688464', 'NA1_4905578110', 'NA1_4905548728', 'NA1_4905585687', 'NA1_4905633262', 'NA1_4905612268', 'NA1_4905634370', 'NA1_4905579264', 'NA1_4905550265', 'NA1_4905687458', 'NA1_4905580678', 'NA1_4905565647', 'NA1_4905663561', 'NA1_4905634746', 'NA1_4905692921', 'NA1_4905673017', 'NA1_4905763498', 'NA1_4905739006', 'NA1_4905672687', 'NA1_4905593622', 'NA1_4905636952', 'NA1_4905687145', 'NA1_4905723774', 'NA1_4905651280', 'NA1_4905562332', 'NA1_4905623107', 'NA1_4905641905', 'NA1_4905527772', 'NA1_4905588715', 'NA1_4905666506', 'NA1_4905694219', 'NA1_4905754789', 'NA1_4905546986', 'NA1_4905671353', 'NA1_4905646173', 'NA1_4905710663', 'NA1_4905680193', 'NA1_4905538596', 'NA1_4905657141', 'NA1_4905522513', 'NA1_4905627017', 'NA1_4905520655', 'NA1_4905606217', 'NA1_4905643173', 'NA1_4905741984', 'NA1_4905691718', 'NA1_4905755616', 'NA1_4905559918', 'NA1_4905555776', 'NA1_4905720169', 'NA1_4905568852', 'NA1_4905625754', 'NA1_4905705056', 'NA1_4905667229', 'NA1_4905536037', 'NA1_4905628207', 'NA1_4905592332', 'NA1_4905728680', 'NA1_4905704347', 'NA1_4905663026', 'NA1_4905560288', 'NA1_4905643815', 'NA1_4905692466', 'NA1_4905736617', 'NA1_4905764078', 'NA1_4905545509', 'NA1_4905766979', 'NA1_4905536420', 'NA1_4905674255', 'NA1_4905667599', 'NA1_4905657029', 'NA1_4905670170', 'NA1_4905766619', 'NA1_4905746279', 'NA1_4905648396', 'NA1_4905736963', 'NA1_4905719200', 'NA1_4905606694', 'NA1_4905717863', 'NA1_4905752454', 'NA1_4905609644', 'NA1_4905612617', 'NA1_4905746140', 'NA1_4905777899', 'NA1_4905653427', 'NA1_4905665742', 'NA1_4905650392', 'NA1_4905587972', 'NA1_4905727318', 'NA1_4905615355', 'NA1_4905677480', 'NA1_4905736499', 'NA1_4905526518', 'NA1_4905585160', 'NA1_4905744559', 'NA1_4905739611', 'NA1_4905664996', 'NA1_4905676627', 'NA1_4905648218', 'NA1_4905592488', 'NA1_4905708278', 'NA1_4905676189']\n"
     ]
    }
   ],
   "source": [
    "print(recent_match_ids)"
   ]
  },
  {
   "cell_type": "code",
   "execution_count": 7,
   "metadata": {},
   "outputs": [
    {
     "name": "stdout",
     "output_type": "stream",
     "text": [
      "sleeping 120s\n"
     ]
    }
   ],
   "source": [
    "import numpy as np\n",
    "## add data to database\n",
    "augments = pd.DataFrame(columns=['2-1 Games', '2-1 Avg Placement', '3-2 Games', '3-2 Avg Placement', '4-2 Games', '4-2 Avg Placement', 'Total Games', 'Total Avg Placement'])\n",
    "augments = augments.astype({\n",
    "    '2-1 Games':int,\n",
    "    '2-1 Avg Placement':float,\n",
    "    '3-2 Games':int,\n",
    "    '3-2 Avg Placement':float,\n",
    "    '4-2 Games':int,\n",
    "    '4-2 Avg Placement':float,\n",
    "    'Total Games':int,\n",
    "    'Total Avg Placement':float,\n",
    "    })\n",
    "\n",
    "data_dragon = requests.get('https://ddragon.leagueoflegends.com/cdn/13.24.1/data/en_US/tft-augments.json').json()\n",
    "aug_ids = list(data_dragon['data'].keys())\n",
    "aug_names = [data_dragon['data'][i]['name'] for i in list(data_dragon['data'].keys())]\n",
    "\n",
    "augments.insert(0, \"Augment ID\", aug_ids)\n",
    "augments.insert(0, \"Augment Name\", aug_names)\n",
    "\n",
    "augments['2-1 Games'] = 0\n",
    "augments['3-2 Games'] = 0\n",
    "augments['4-2 Games'] = 0\n",
    "augments['Total Games'] = 0\n",
    "\n",
    "\n",
    "count = 1\n",
    "for match_id in recent_match_ids:\n",
    "\n",
    "    if count % 100 == 0:\n",
    "        time.sleep(120)\n",
    "        print(\"sleeping 120s\")\n",
    "\n",
    "    api_url = 'https://americas.api.riotgames.com/tft/match/v1/matches/'+ match_id + '?api_key=' + api_key\n",
    "    r = requests.get(api_url).json()\n",
    "    for i in range(0, 8):\n",
    "        # add to database\n",
    "        ags = ['', '', '']\n",
    "        augs = r['info']['participants'][i]['augments']\n",
    "        for i in range(0, len(augs)):\n",
    "            ags[i] = augs[i]\n",
    "        placement = r['info']['participants'][i]['placement']\n",
    "\n",
    "\n",
    "        if ags[0] != '':\n",
    "            avg_place_21 = augments.loc[augments['Augment ID'] == ags[0], '2-1 Avg Placement'].values[0]\n",
    "            games_21 = augments.loc[augments['Augment ID'] == ags[0], '2-1 Games'].values[0]\n",
    "            avg_total_place_21 = augments.loc[augments['Augment ID'] == ags[0], 'Total Avg Placement'].values[0]\n",
    "            games_total_21 = augments.loc[augments['Augment ID'] == ags[0], 'Total Games'].values[0]\n",
    "\n",
    "\n",
    "            if pd.isna(avg_place_21):\n",
    "                augments.loc[augments['Augment ID'] == ags[0], '2-1 Avg Placement'] = float(placement)\n",
    "            else:\n",
    "                augments.loc[augments['Augment ID'] == ags[0], '2-1 Avg Placement'] = ((avg_place_21 * games_21) + placement) / (games_21 + 1)\n",
    "\n",
    "            if pd.isna(avg_total_place_21):\n",
    "                augments.loc[augments['Augment ID'] == ags[0], 'Total Avg Placement'] = float(placement)\n",
    "            else:\n",
    "                augments.loc[augments['Augment ID'] == ags[0], 'Total Avg Placement'] = ((avg_total_place_21 * games_total_21) + placement) / (games_total_21 + 1)\n",
    "\n",
    "            augments.loc[augments['Augment ID'] == ags[0], '2-1 Games'] += 1\n",
    "            augments.loc[augments['Augment ID'] == ags[0], 'Total Games'] += 1\n",
    "\n",
    "        if ags[1] != '':\n",
    "            avg_place_32 = augments.loc[augments['Augment ID'] == ags[1], '3-2 Avg Placement'].values[0]\n",
    "            games_32 = augments.loc[augments['Augment ID'] == ags[1], '3-2 Games'].values[0]\n",
    "            avg_total_place_32 = augments.loc[augments['Augment ID'] == ags[1], 'Total Avg Placement'].values[0]\n",
    "            games_total_32 = augments.loc[augments['Augment ID'] == ags[1], 'Total Games'].values[0]\n",
    "\n",
    "            if pd.isna(avg_place_32):\n",
    "                augments.loc[augments['Augment ID'] == ags[1], '3-2 Avg Placement'] = float(placement)\n",
    "            else:\n",
    "                augments.loc[augments['Augment ID'] == ags[1], '3-2 Avg Placement'] = ((avg_place_32 * games_32) + placement) / (games_32 + 1)\n",
    "            if pd.isna(avg_total_place_32):\n",
    "                augments.loc[augments['Augment ID'] == ags[1], 'Total Avg Placement'] = float(placement)\n",
    "            else:\n",
    "                augments.loc[augments['Augment ID'] == ags[1], 'Total Avg Placement'] = ((avg_total_place_32 * games_total_32) + placement) / (games_total_32 + 1)\n",
    "\n",
    "            augments.loc[augments['Augment ID'] == ags[1], '3-2 Games'] += 1\n",
    "            augments.loc[augments['Augment ID'] == ags[1], 'Total Games'] += 1\n",
    "\n",
    "\n",
    "\n",
    "        if ags[2] != '':\n",
    "            avg_place_42 = augments.loc[augments['Augment ID'] == ags[2], '4-2 Avg Placement'].values[0]\n",
    "            games_42 = augments.loc[augments['Augment ID'] == ags[2], '4-2 Games'].values[0]\n",
    "            avg_total_place_42 = augments.loc[augments['Augment ID'] == ags[2], 'Total Avg Placement'].values[0]\n",
    "            games_total_42 = augments.loc[augments['Augment ID'] == ags[2], 'Total Games'].values[0]\n",
    "\n",
    "            if pd.isna(avg_place_42):\n",
    "                augments.loc[augments['Augment ID'] == ags[2], '4-2 Avg Placement'] = float(placement)\n",
    "            else:\n",
    "                augments.loc[augments['Augment ID'] == ags[2], '4-2 Avg Placement'] = ((avg_place_42 * games_42) + placement) / (games_42 + 1)\n",
    "            if pd.isna(avg_total_place_42):\n",
    "                augments.loc[augments['Augment ID'] == ags[2], 'Total Avg Placement'] = float(placement)\n",
    "            else:\n",
    "                augments.loc[augments['Augment ID'] == ags[2], 'Total Avg Placement'] = ((avg_total_place_42 * games_total_42) + placement) / (games_total_42 + 1)\n",
    "\n",
    "            augments.loc[augments['Augment ID'] == ags[2], '4-2 Games'] += 1\n",
    "            augments.loc[augments['Augment ID'] == ags[2], 'Total Games'] += 1\n",
    "\n",
    "    count += 1"
   ]
  },
  {
   "cell_type": "code",
   "execution_count": 11,
   "metadata": {},
   "outputs": [
    {
     "name": "stdout",
     "output_type": "stream",
     "text": [
      "        Augment Name                   Augment ID  2-1 Games  \\\n",
      "0        Salvage Bin      TFT6_Augment_SalvageBin         13   \n",
      "1  March of Progress   TFT6_Augment_SlowAndSteady         17   \n",
      "2     Portable Forge   TFT6_Augment_PortableForge         22   \n",
      "3     Binary Airdrop   TFT6_Augment_BinaryAirdrop          0   \n",
      "4     Recombobulator  TFT6_Augment_Recombobulator          0   \n",
      "\n",
      "   2-1 Avg Placement  3-2 Games  3-2 Avg Placement  4-2 Games  \\\n",
      "0           5.076923          0                NaN          0   \n",
      "1           4.294118          0                NaN          0   \n",
      "2           5.545455          0                NaN          0   \n",
      "3                NaN         17           5.176471         27   \n",
      "4                NaN          5           4.800000          2   \n",
      "\n",
      "   4-2 Avg Placement  Total Games  Total Avg Placement  \n",
      "0                NaN           13             5.076923  \n",
      "1                NaN           17             4.294118  \n",
      "2                NaN           22             5.545455  \n",
      "3           3.592593           44             4.204545  \n",
      "4           4.500000            7             4.714286  \n"
     ]
    }
   ],
   "source": [
    "augments.to_excel('augments.xlsx')\n",
    "print(augments.head(5))"
   ]
  },
  {
   "cell_type": "code",
   "execution_count": 61,
   "metadata": {},
   "outputs": [],
   "source": [
    "# updating database\n",
    "import os\n",
    "import sys\n",
    "sys.path.append('..')\n",
    "\n",
    "os.environ.setdefault(\"DJANGO_SETTINGS_MODULE\", \"tftAPP.settings\")\n",
    "os.environ[\"DJANGO_ALLOW_ASYNC_UNSAFE\"] = \"true\"\n",
    "\n",
    "import django\n",
    "django.setup()\n",
    "from stats.models import Augment\n",
    "\n",
    "\n",
    "\n",
    "for row in augments.iterrows():\n",
    "    # print(row[1])\n",
    "\n",
    "    new_games_total = row[1]['Total Games']\n",
    "    new_games_two_one = row[1]['2-1 Games']\n",
    "    new_games_three_two = row[1]['3-2 Games']\n",
    "    new_games_four_two = row[1]['4-2 Games']\n",
    "\n",
    "    new_avg_total = row[1]['Total Avg Placement']\n",
    "    new_avg_total = 0.0 if pd.isna(new_avg_total) else new_avg_total\n",
    "    new_avg_two_one = row[1]['2-1 Avg Placement']\n",
    "    new_avg_two_one = 0.0 if pd.isna(new_avg_two_one) else new_avg_two_one\n",
    "    new_avg_three_two = row[1]['3-2 Avg Placement']\n",
    "    new_avg_three_two = 0.0 if pd.isna(new_avg_three_two) else new_avg_three_two\n",
    "    new_avg_four_two = row[1]['4-2 Avg Placement']\n",
    "    new_avg_four_two = 0.0 if pd.isna(new_avg_four_two) else new_avg_four_two\n",
    "\n",
    "    prevaug = Augment.objects.get(name=row[1]['Augment Name'])\n",
    "\n",
    "    games_total = prevaug.games_total\n",
    "    games_two_one = prevaug.games_two_one\n",
    "    games_three_two = prevaug.games_three_two\n",
    "    games_four_two = prevaug.games_four_two\n",
    "\n",
    "    avg_total = float(prevaug.avg_total)\n",
    "    avg_two_one = float(prevaug.avg_two_one)\n",
    "    avg_three_two = float(prevaug.avg_three_two)\n",
    "    avg_four_two = float(prevaug.avg_four_two)\n",
    "\n",
    "    avg_total = 0.0 if new_games_total + games_total == 0 else ((avg_total * games_total) + (new_avg_total * new_games_total)) / (new_games_total + games_total)\n",
    "    avg_two_one = 0.0 if new_games_two_one + games_two_one == 0 else ((avg_two_one * games_two_one) + (new_avg_two_one * new_games_two_one)) / (new_games_two_one + games_two_one)\n",
    "    avg_three_two = 0.0 if new_games_three_two + games_three_two == 0 else ((avg_three_two * games_three_two) + (new_avg_three_two * new_games_three_two)) / (new_games_three_two + games_three_two)\n",
    "    avg_four_two = 0.0 if new_games_four_two + games_four_two == 0 else ((avg_four_two * games_four_two) + (new_avg_four_two * new_games_four_two)) / (new_games_four_two + games_four_two)\n",
    "\n",
    "    games_total += new_games_total\n",
    "    games_two_one += new_games_two_one\n",
    "    games_three_two += new_games_three_two\n",
    "    games_four_two += new_games_four_two\n",
    "\n",
    "\n",
    "    Augment.objects.filter(name=row[1]['Augment Name']).update(games_total=games_total,\n",
    "                                                               games_two_one=games_two_one,\n",
    "                                                               games_three_two=games_three_two,\n",
    "                                                               games_four_two=games_four_two,\n",
    "                                                               avg_total=avg_total,\n",
    "                                                               avg_two_one=avg_two_one,\n",
    "                                                               avg_three_two=avg_three_two,\n",
    "                                                               avg_four_two=avg_four_two)\n",
    "\n",
    "\n",
    "    # aug = Augment(name = row[1]['Augment Name'], \n",
    "    #               games_total = new_games_total, \n",
    "    #               games_two_one = new_games_two_one,\n",
    "    #               games_three_two = new_games_three_two,\n",
    "    #               games_four_two = new_games_four_two,\n",
    "    #               avg_total = 0.0 if pd.isna(new_avg_total) else new_avg_total,\n",
    "    #               avg_two_one = 0.0 if pd.isna(new_avg_two_one) else new_avg_two_one,\n",
    "    #               avg_three_two = 0.0 if pd.isna(new_avg_three_two) else new_avg_three_two,\n",
    "    #               avg_four_two = 0.0 if pd.isna(new_avg_four_two) else new_avg_four_two)\n",
    "    # aug.save()"
   ]
  }
 ],
 "metadata": {
  "kernelspec": {
   "display_name": "Python 3.12.1 ('TFTAPP')",
   "language": "python",
   "name": "python3"
  },
  "language_info": {
   "codemirror_mode": {
    "name": "ipython",
    "version": 3
   },
   "file_extension": ".py",
   "mimetype": "text/x-python",
   "name": "python",
   "nbconvert_exporter": "python",
   "pygments_lexer": "ipython3",
   "version": "3.12.1"
  },
  "orig_nbformat": 4,
  "vscode": {
   "interpreter": {
    "hash": "6d3bff6b80c0875e1085ba408d542f374c0d2a5df10c11d123bff3147fd43e84"
   }
  }
 },
 "nbformat": 4,
 "nbformat_minor": 2
}
