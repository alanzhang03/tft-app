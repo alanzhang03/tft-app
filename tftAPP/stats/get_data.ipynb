{
 "cells": [
  {
   "cell_type": "code",
   "execution_count": 12,
   "metadata": {},
   "outputs": [],
   "source": [
    "api_key = 'RGAPI-250186f2-2593-4eb8-aeca-5f952bf9391f'"
   ]
  },
  {
   "cell_type": "code",
   "execution_count": 3,
   "metadata": {},
   "outputs": [],
   "source": [
    "import requests\n",
    "import pandas as pd\n",
    "import numpy as np\n",
    "\n",
    "api_url = 'https://na1.api.riotgames.com/tft/league/v1/entries/DIAMOND/IV?queue=RANKED_TFT&page=100'\n",
    "\n",
    "api_url = api_url + '&api_key=' + api_key\n"
   ]
  },
  {
   "cell_type": "code",
   "execution_count": 31,
   "metadata": {},
   "outputs": [],
   "source": [
    "d4_response = requests.get(api_url)"
   ]
  },
  {
   "cell_type": "code",
   "execution_count": 116,
   "metadata": {},
   "outputs": [
    {
     "name": "stdout",
     "output_type": "stream",
     "text": [
      "1\n",
      "2\n",
      "3\n",
      "4\n",
      "5\n",
      "6\n",
      "7\n",
      "8\n",
      "9\n",
      "10\n",
      "11\n",
      "12\n",
      "13\n",
      "14\n",
      "15\n",
      "16\n",
      "17\n",
      "18\n",
      "19\n",
      "20\n",
      "21\n",
      "22\n",
      "23\n",
      "24\n",
      "25\n",
      "26\n",
      "27\n",
      "28\n",
      "29\n",
      "30\n",
      "31\n",
      "32\n",
      "33\n",
      "34\n",
      "35\n",
      "36\n",
      "37\n",
      "38\n",
      "39\n",
      "40\n",
      "41\n",
      "42\n",
      "43\n",
      "44\n",
      "45\n",
      "46\n",
      "47\n",
      "48\n"
     ]
    }
   ],
   "source": [
    "# loop through every user in diamond 4 and add their names into a dataframe\n",
    "page_num = 1\n",
    "diamond_puuid = pd.DataFrame([])\n",
    "while True:\n",
    "    api_url = 'https://na1.api.riotgames.com/tft/league/v1/entries/DIAMOND/IV?queue=RANKED_TFT&page=' + str(page_num)\n",
    "    api_url = api_url + '&api_key=' + api_key\n",
    "    response = requests.get(api_url).json()\n",
    "    if(response != []): \n",
    "        df = pd.DataFrame(response)\n",
    "        df1 = df.loc[:, df.columns.intersection(['puuid'])]\n",
    "        diamond_puuid = pd.concat([diamond_puuid, df1], axis=0)\n",
    "    else:\n",
    "        break\n",
    "\n",
    "    page_num += 1\n"
   ]
  },
  {
   "cell_type": "code",
   "execution_count": 117,
   "metadata": {},
   "outputs": [
    {
     "name": "stdout",
     "output_type": "stream",
     "text": [
      "                                               puuid\n",
      "0  xAHUx3ABXJAB6CJvwk3I4f_fs59yufLEKIZ99o4N5dI0lo...\n",
      "1  5CpXXSb9wmxCmvl-nJoc97HCqkegjSBtJmHUsJahpv4BXm...\n",
      "2  OwBCsQUKzIhw11OcYuph1hmltOZAroDVlqFcmnFJwgzRNV...\n",
      "3  c1Khe6uMdUMGs1JLRlCoMucPiMmlc9vdyAJq7xGvZQQydI...\n",
      "4  XQnpgeSHnXvLlqDYClsGRdVrP7TQdj9Ir_aTPwi85hylLt...\n",
      "9496\n"
     ]
    }
   ],
   "source": [
    "print(diamond_puuid.head(5))\n",
    "# print(diamond_summoner_names.tail(5))\n",
    "print(diamond_puuid.size)"
   ]
  },
  {
   "cell_type": "code",
   "execution_count": 14,
   "metadata": {},
   "outputs": [
    {
     "name": "stdout",
     "output_type": "stream",
     "text": [
      "sleeping 120s\n",
      "sleeping 120s\n"
     ]
    }
   ],
   "source": [
    "## get the puuids of the top 250 players in north america\n",
    "\n",
    "import time\n",
    "\n",
    "api_url = 'https://na1.api.riotgames.com/tft/league/v1/challenger?queue=RANKED_TFT'\n",
    "api_url = api_url + '&api_key=' + api_key\n",
    "challenger_players_response = requests.get(api_url).json()\n",
    "challenger_summoner_ids = [challenger_players_response['entries'][i]['summonerId'] for i in range(0, len(challenger_players_response['entries']))]\n",
    "challenger_puuids = []\n",
    "\n",
    "count = 1\n",
    "for id in challenger_summoner_ids:\n",
    "    summoner_url = 'https://na1.api.riotgames.com/tft/summoner/v1/summoners/'+ id + '?api_key=' + api_key\n",
    "    ## delete when have production key\n",
    "    if count % 100 == 0:\n",
    "        time.sleep(120)\n",
    "        print(\"sleeping 120s\")\n",
    "    r = requests.get(summoner_url).json()\n",
    "    challenger_puuids.append(r['puuid'])\n",
    "    count += 1"
   ]
  },
  {
   "cell_type": "code",
   "execution_count": 209,
   "metadata": {},
   "outputs": [
    {
     "name": "stdout",
     "output_type": "stream",
     "text": [
      "250\n"
     ]
    }
   ],
   "source": [
    "print(len(challenger_puuids))"
   ]
  },
  {
   "cell_type": "code",
   "execution_count": 113,
   "metadata": {},
   "outputs": [
    {
     "name": "stdout",
     "output_type": "stream",
     "text": [
      "sleeping 120s\n",
      "sleeping 120s\n"
     ]
    }
   ],
   "source": [
    "## get a list of all match ids within the last hour\n",
    "import time\n",
    "recent_match_ids = []\n",
    "start_time = int(time.time()) - 36000\n",
    "\n",
    "##\n",
    "count = 1\n",
    "for puuid in challenger_puuids:\n",
    "    api_url_matches = 'https://americas.api.riotgames.com/tft/match/v1/matches/by-puuid/' + puuid + '/ids?start=0&startTime=' + str(start_time) + '&count=20&api_key=' + api_key\n",
    "    r = requests.get(api_url_matches).json()\n",
    "    recent_match_ids = list(set(recent_match_ids + r))\n",
    "\n",
    "    ## delete when have production key\n",
    "    if count % 100 == 0:\n",
    "        time.sleep(120)\n",
    "        print(\"sleeping 120s\")\n",
    "    count += 1\n",
    "    "
   ]
  },
  {
   "cell_type": "code",
   "execution_count": 114,
   "metadata": {},
   "outputs": [
    {
     "name": "stdout",
     "output_type": "stream",
     "text": [
      "['NA1_4904778104', 'NA1_4904963651', 'NA1_4904690465', 'NA1_4904782933', 'NA1_4904772908', 'NA1_4904731037', 'NA1_4904994599', 'NA1_4904858862', 'NA1_4904917890', 'NA1_4904825284', 'NA1_4904911718', 'NA1_4904828215', 'NA1_4904891453', 'NA1_4904734384', 'NA1_4904701836', 'NA1_4904861920', 'NA1_4904958578', 'NA1_4904800227', 'NA1_4904767540', 'NA1_4904865312', 'NA1_4904715697', 'NA1_4904697911', 'NA1_4904836256', 'NA1_4904680264', 'NA1_4904805704', 'NA1_4904750674', 'NA1_4904878882', 'NA1_4904987134', 'NA1_4904953699', 'NA1_4904953585', 'NA1_4904719680', 'NA1_4904777439', 'NA1_4904713996', 'NA1_4904883892', 'NA1_4904834237', 'NA1_4904945898', 'NA1_4904748758', 'NA1_4905000382', 'NA1_4904838711', 'NA1_4904905695', 'NA1_4904804163', 'NA1_4904757658', 'NA1_4904866451', 'NA1_4904679838', 'NA1_4904882972', 'NA1_4904886684', 'NA1_4904719422', 'NA1_4905010337', 'NA1_4904927945', 'NA1_4904846632', 'NA1_4904910633', 'NA1_4904776457', 'NA1_4904687352', 'NA1_4904960467', 'NA1_4904789352', 'NA1_4904705701', 'NA1_4904711834', 'NA1_4904787131', 'NA1_4904979300', 'NA1_4904831007', 'NA1_4904890229', 'NA1_4904993955', 'NA1_4904927530', 'NA1_4904673346', 'NA1_4904886307', 'NA1_4905012774', 'NA1_4904716421', 'NA1_4904842894', 'NA1_4904746380', 'NA1_4904928641', 'NA1_4904920538', 'NA1_4904957008', 'NA1_4904953338', 'NA1_4904762855', 'NA1_4904811233', 'NA1_4904965315', 'NA1_4904929526', 'NA1_4905010726', 'NA1_4904839466', 'NA1_4904988743', 'NA1_4904818433', 'NA1_4904675455', 'NA1_4904848999', 'NA1_4904749365', 'NA1_4904949196', 'NA1_4904727693', 'NA1_4904715320', 'NA1_4904678339', 'NA1_4904740345', 'NA1_4904815175', 'NA1_4904973823', 'NA1_4904724466', 'NA1_4904737933', 'NA1_4904736405', 'NA1_4904748579', 'NA1_4904694294', 'NA1_4904824266', 'NA1_4904905341', 'NA1_4904885052', 'NA1_4904930445', 'NA1_4904951053', 'NA1_4904834751', 'NA1_4904862325', 'NA1_4904916555', 'NA1_4904848908', 'NA1_4904707008', 'NA1_4904997495', 'NA1_4905008099', 'NA1_4904985572', 'NA1_4904795373', 'NA1_4904831387', 'NA1_4904995268', 'NA1_4904980548', 'NA1_4904879082', 'NA1_4904710765', 'NA1_4904733489', 'NA1_4904683996', 'NA1_4904805258', 'NA1_4904940015', 'NA1_4904926297', 'NA1_4904936062', 'NA1_4904779832', 'NA1_4904710798', 'NA1_4904681911', 'NA1_4904697520', 'NA1_4904860124', 'NA1_4904687559', 'NA1_4904927221', 'NA1_4904932481', 'NA1_4904895535', 'NA1_4904808598', 'NA1_4904905157', 'NA1_4904794128', 'NA1_4904738706', 'NA1_4904769779', 'NA1_4904759853', 'NA1_4904982378', 'NA1_4904707865', 'NA1_4904766551', 'NA1_4904867251', 'NA1_4904792724', 'NA1_4904685442', 'NA1_4904756544', 'NA1_4904825996', 'NA1_4904679906', 'NA1_4904763107', 'NA1_4904955608', 'NA1_4904976096', 'NA1_4904707754', 'NA1_4904824330', 'NA1_4904882715', 'NA1_4904953081', 'NA1_4904901289', 'NA1_4904744526', 'NA1_4904965080', 'NA1_4904898738', 'NA1_4904855383', 'NA1_4904713846', 'NA1_4904791078', 'NA1_4904743029', 'NA1_4905010291', 'NA1_4904683373', 'NA1_4905005986', 'NA1_4904700764', 'NA1_4904989084', 'NA1_4904851483', 'NA1_4904821740', 'NA1_4904717950', 'NA1_4904801278', 'NA1_4904729473', 'NA1_4904764437', 'NA1_4904716560', 'NA1_4904821174', 'NA1_4904786474', 'NA1_4904731543', 'NA1_4904859514', 'NA1_4904967579', 'NA1_4904869415', 'NA1_4904709016', 'NA1_4904683253', 'NA1_4904808083', 'NA1_4904689841']\n"
     ]
    }
   ],
   "source": [
    "print(recent_match_ids)"
   ]
  },
  {
   "cell_type": "code",
   "execution_count": 146,
   "metadata": {},
   "outputs": [
    {
     "ename": "KeyError",
     "evalue": "'info'",
     "output_type": "error",
     "traceback": [
      "\u001b[0;31m---------------------------------------------------------------------------\u001b[0m",
      "\u001b[0;31mKeyError\u001b[0m                                  Traceback (most recent call last)",
      "Cell \u001b[0;32mIn[146], line 40\u001b[0m\n\u001b[1;32m     37\u001b[0m \u001b[38;5;28;01mfor\u001b[39;00m i \u001b[38;5;129;01min\u001b[39;00m \u001b[38;5;28mrange\u001b[39m(\u001b[38;5;241m0\u001b[39m, \u001b[38;5;241m8\u001b[39m):\n\u001b[1;32m     38\u001b[0m     \u001b[38;5;66;03m# add to database\u001b[39;00m\n\u001b[1;32m     39\u001b[0m     ags \u001b[38;5;241m=\u001b[39m [\u001b[38;5;124m'\u001b[39m\u001b[38;5;124m'\u001b[39m, \u001b[38;5;124m'\u001b[39m\u001b[38;5;124m'\u001b[39m, \u001b[38;5;124m'\u001b[39m\u001b[38;5;124m'\u001b[39m]\n\u001b[0;32m---> 40\u001b[0m     augs \u001b[38;5;241m=\u001b[39m \u001b[43mr\u001b[49m\u001b[43m[\u001b[49m\u001b[38;5;124;43m'\u001b[39;49m\u001b[38;5;124;43minfo\u001b[39;49m\u001b[38;5;124;43m'\u001b[39;49m\u001b[43m]\u001b[49m[\u001b[38;5;124m'\u001b[39m\u001b[38;5;124mparticipants\u001b[39m\u001b[38;5;124m'\u001b[39m][i][\u001b[38;5;124m'\u001b[39m\u001b[38;5;124maugments\u001b[39m\u001b[38;5;124m'\u001b[39m]\n\u001b[1;32m     41\u001b[0m     \u001b[38;5;28;01mfor\u001b[39;00m i \u001b[38;5;129;01min\u001b[39;00m \u001b[38;5;28mrange\u001b[39m(\u001b[38;5;241m0\u001b[39m, \u001b[38;5;28mlen\u001b[39m(augs)):\n\u001b[1;32m     42\u001b[0m         ags[i] \u001b[38;5;241m=\u001b[39m augs[i]\n",
      "\u001b[0;31mKeyError\u001b[0m: 'info'"
     ]
    }
   ],
   "source": [
    "import numpy as np\n",
    "## add data to database\n",
    "augments = pd.DataFrame(columns=['2-1 Games', '2-1 Avg Placement', '3-2 Games', '3-2 Avg Placement', '4-2 Games', '4-2 Avg Placement', 'Total Games', 'Total Avg Placement'])\n",
    "augments = augments.astype({\n",
    "    '2-1 Games':int,\n",
    "    '2-1 Avg Placement':float,\n",
    "    '3-2 Games':int,\n",
    "    '3-2 Avg Placement':float,\n",
    "    '4-2 Games':int,\n",
    "    '4-2 Avg Placement':float,\n",
    "    'Total Games':int,\n",
    "    'Total Avg Placement':float,\n",
    "    })\n",
    "\n",
    "data_dragon = requests.get('https://ddragon.leagueoflegends.com/cdn/13.24.1/data/en_US/tft-augments.json').json()\n",
    "aug_ids = list(data_dragon['data'].keys())\n",
    "aug_names = [data_dragon['data'][i]['name'] for i in list(data_dragon['data'].keys())]\n",
    "\n",
    "augments.insert(0, \"Augment ID\", aug_ids)\n",
    "augments.insert(0, \"Augment Name\", aug_names)\n",
    "\n",
    "augments['2-1 Games'] = 0\n",
    "augments['3-2 Games'] = 0\n",
    "augments['4-2 Games'] = 0\n",
    "augments['Total Games'] = 0\n",
    "\n",
    "\n",
    "count = 1\n",
    "for match_id in recent_match_ids:\n",
    "\n",
    "    if count % 100 == 0:\n",
    "        time.sleep(120)\n",
    "        print(\"sleeping 120s\")\n",
    "\n",
    "    api_url = 'https://americas.api.riotgames.com/tft/match/v1/matches/'+ match_id + '?api_key=' + api_key\n",
    "    r = requests.get(api_url).json()\n",
    "    for i in range(0, 8):\n",
    "        # add to database\n",
    "        ags = ['', '', '']\n",
    "        augs = r['info']['participants'][i]['augments']\n",
    "        for i in range(0, len(augs)):\n",
    "            ags[i] = augs[i]\n",
    "        placement = r['info']['participants'][i]['placement']\n",
    "\n",
    "\n",
    "        if ags[0] != '':\n",
    "            avg_place_21 = augments.loc[augments['Augment ID'] == ags[0], '2-1 Avg Placement'].values[0]\n",
    "            games_21 = augments.loc[augments['Augment ID'] == ags[0], '2-1 Games'].values[0]\n",
    "            avg_total_place_21 = augments.loc[augments['Augment ID'] == ags[0], 'Total Avg Placement'].values[0]\n",
    "            games_total_21 = augments.loc[augments['Augment ID'] == ags[0], 'Total Games'].values[0]\n",
    "\n",
    "\n",
    "            if pd.isna(avg_place_21):\n",
    "                augments.loc[augments['Augment ID'] == ags[0], '2-1 Avg Placement'] = float(placement)\n",
    "            else:\n",
    "                augments.loc[augments['Augment ID'] == ags[0], '2-1 Avg Placement'] = ((avg_place_21 * games_21) + placement) / (games_21 + 1)\n",
    "\n",
    "            if pd.isna(avg_total_place_21):\n",
    "                augments.loc[augments['Augment ID'] == ags[0], 'Total Avg Placement'] = float(placement)\n",
    "            else:\n",
    "                augments.loc[augments['Augment ID'] == ags[0], 'Total Avg Placement'] = ((avg_total_place_21 * games_total_21) + placement) / (games_total_21 + 1)\n",
    "\n",
    "            augments.loc[augments['Augment ID'] == ags[0], '2-1 Games'] += 1\n",
    "            augments.loc[augments['Augment ID'] == ags[0], 'Total Games'] += 1\n",
    "\n",
    "        if ags[1] != '':\n",
    "            avg_place_32 = augments.loc[augments['Augment ID'] == ags[1], '3-2 Avg Placement'].values[0]\n",
    "            games_32 = augments.loc[augments['Augment ID'] == ags[1], '3-2 Games'].values[0]\n",
    "            avg_total_place_32 = augments.loc[augments['Augment ID'] == ags[1], 'Total Avg Placement'].values[0]\n",
    "            games_total_32 = augments.loc[augments['Augment ID'] == ags[1], 'Total Games'].values[0]\n",
    "\n",
    "            if pd.isna(avg_place_32):\n",
    "                augments.loc[augments['Augment ID'] == ags[1], '3-2 Avg Placement'] = float(placement)\n",
    "            else:\n",
    "                augments.loc[augments['Augment ID'] == ags[1], '3-2 Avg Placement'] = ((avg_place_32 * games_32) + placement) / (games_32 + 1)\n",
    "            if pd.isna(avg_total_place_32):\n",
    "                augments.loc[augments['Augment ID'] == ags[1], 'Total Avg Placement'] = float(placement)\n",
    "            else:\n",
    "                augments.loc[augments['Augment ID'] == ags[1], 'Total Avg Placement'] = ((avg_total_place_32 * games_total_32) + placement) / (games_total_32 + 1)\n",
    "\n",
    "            augments.loc[augments['Augment ID'] == ags[1], '3-2 Games'] += 1\n",
    "            augments.loc[augments['Augment ID'] == ags[1], 'Total Games'] += 1\n",
    "\n",
    "\n",
    "\n",
    "        if ags[2] != '':\n",
    "            avg_place_42 = augments.loc[augments['Augment ID'] == ags[2], '4-2 Avg Placement'].values[0]\n",
    "            games_42 = augments.loc[augments['Augment ID'] == ags[2], '4-2 Games'].values[0]\n",
    "            avg_total_place_42 = augments.loc[augments['Augment ID'] == ags[2], 'Total Avg Placement'].values[0]\n",
    "            games_total_42 = augments.loc[augments['Augment ID'] == ags[2], 'Total Games'].values[0]\n",
    "\n",
    "            if pd.isna(avg_place_42):\n",
    "                augments.loc[augments['Augment ID'] == ags[2], '4-2 Avg Placement'] = float(placement)\n",
    "            else:\n",
    "                augments.loc[augments['Augment ID'] == ags[2], '4-2 Avg Placement'] = ((avg_place_42 * games_42) + placement) / (games_42 + 1)\n",
    "            if pd.isna(avg_total_place_42):\n",
    "                augments.loc[augments['Augment ID'] == ags[2], 'Total Avg Placement'] = float(placement)\n",
    "            else:\n",
    "                augments.loc[augments['Augment ID'] == ags[2], 'Total Avg Placement'] = ((avg_total_place_42 * games_total_42) + placement) / (games_total_42 + 1)\n",
    "\n",
    "            augments.loc[augments['Augment ID'] == ags[2], '4-2 Games'] += 1\n",
    "            augments.loc[augments['Augment ID'] == ags[2], 'Total Games'] += 1\n",
    "\n",
    "    count += 1"
   ]
  },
  {
   "cell_type": "code",
   "execution_count": 134,
   "metadata": {},
   "outputs": [
    {
     "name": "stdout",
     "output_type": "stream",
     "text": [
      "        Augment Name                   Augment ID  2-1 Games  \\\n",
      "0        Salvage Bin      TFT6_Augment_SalvageBin          0   \n",
      "1  March of Progress   TFT6_Augment_SlowAndSteady          0   \n",
      "2     Portable Forge   TFT6_Augment_PortableForge          0   \n",
      "3     Binary Airdrop   TFT6_Augment_BinaryAirdrop          0   \n",
      "4     Recombobulator  TFT6_Augment_Recombobulator          0   \n",
      "\n",
      "   2-1 Avg Placement  3-2 Games  3-2 Avg Placement  4-2 Games  \\\n",
      "0                NaN          0                NaN          0   \n",
      "1                NaN          0                NaN          0   \n",
      "2                NaN          0                NaN          0   \n",
      "3                NaN          0                NaN          0   \n",
      "4                NaN          0                NaN          0   \n",
      "\n",
      "   4-2 Avg Placement  Total Games  Total Avg Placement  \n",
      "0                NaN            0                  NaN  \n",
      "1                NaN            0                  NaN  \n",
      "2                NaN            0                  NaN  \n",
      "3                NaN            0                  NaN  \n",
      "4                NaN            0                  NaN  \n",
      "83    True\n",
      "Name: 3-2 Avg Placement, dtype: bool\n"
     ]
    }
   ],
   "source": [
    "augments.to_excel('augments.xlsx')\n",
    "print(augments.head(5))\n",
    "\n",
    "print(pd.isna(augments.loc[augments['Augment ID'] == 'TFT6_Augment_TradeSector', '3-2 Avg Placement']))"
   ]
  },
  {
   "cell_type": "code",
   "execution_count": 70,
   "metadata": {},
   "outputs": [],
   "source": [
    "augments = pd.DataFrame(columns=['2-1 Games', '2-1 Avg Placement', '3-2 Games', '3-2 Avg Placement', '4-2 Games', '4-2 Avg Placement', 'Total Games', 'Total Avg Placement'])\n",
    "data_dragon = requests.get('https://ddragon.leagueoflegends.com/cdn/13.24.1/data/en_US/tft-augments.json').json()\n",
    "aug_ids = list(data_dragon['data'].keys())\n",
    "aug_names = [data_dragon['data'][i]['name'] for i in list(data_dragon['data'].keys())]\n",
    "\n",
    "augments.insert(0, \"Augment ID\", aug_ids)\n",
    "augments.insert(0, \"Augment Name\", aug_names)\n",
    "\n",
    "augments['2-1 Games'] = 0\n",
    "augments['3-2 Games'] = 0\n",
    "augments['4-2 Games'] = 0\n",
    "augments['Total Games'] = 0"
   ]
  },
  {
   "cell_type": "code",
   "execution_count": 72,
   "metadata": {},
   "outputs": [
    {
     "name": "stdout",
     "output_type": "stream",
     "text": [
      "['TFT6_Augment_TradeSector', 'TFT9_Augment_ArmyBuilding', 'TFT6_Augment_BinaryAirdrop']\n",
      "6\n",
      "    Augment Name                Augment ID  2-1 Games 2-1 Avg Placement  \\\n",
      "83  Trade Sector  TFT6_Augment_TradeSector          2                 6   \n",
      "\n",
      "    3-2 Games 3-2 Avg Placement  4-2 Games 4-2 Avg Placement  Total Games  \\\n",
      "83          0               NaN          0               NaN            2   \n",
      "\n",
      "   Total Avg Placement  \n",
      "83                   6  \n"
     ]
    }
   ],
   "source": [
    "api_url = 'https://americas.api.riotgames.com/tft/match/v1/matches/NA1_4902286636?api_key=RGAPI-250186f2-2593-4eb8-aeca-5f952bf9391f'\n",
    "r = requests.get(api_url).json()\n",
    "print(r['info']['participants'][0]['augments'])\n",
    "print(r['info']['participants'][0]['placement'])\n",
    "\n",
    "ags = r['info']['participants'][0]['augments']\n",
    "placement = r['info']['participants'][0]['placement']\n",
    "\n",
    "avg_place_21 = augments.loc[augments['Augment ID'] == ags[0], '2-1 Avg Placement']\n",
    "games_21 = augments.loc[augments['Augment ID'] == ags[0], '2-1 Games']\n",
    "avg_place_32 = augments.loc[augments['Augment ID'] == ags[1], '3-2 Avg Placement']\n",
    "games_32 = augments.loc[augments['Augment ID'] == ags[1], '3-2 Games']\n",
    "avg_place_42 = augments.loc[augments['Augment ID'] == ags[2], '4-2 Avg Placement']\n",
    "games_42 = augments.loc[augments['Augment ID'] == ags[2], '4-2 Games']\n",
    "\n",
    "avg_total_place_21 = augments.loc[augments['Augment ID'] == ags[0], 'Total Avg Placement']\n",
    "games_total_21 = augments.loc[augments['Augment ID'] == ags[0], 'Total Games']\n",
    "avg_total_place_32 = augments.loc[augments['Augment ID'] == ags[1], 'Total Avg Placement']\n",
    "games_total_32 = augments.loc[augments['Augment ID'] == ags[1], 'Total Games']\n",
    "avg_total_place_42 = augments.loc[augments['Augment ID'] == ags[2], 'Total Avg Placement']\n",
    "games_total_42 = augments.loc[augments['Augment ID'] == ags[2], 'Total Games']\n",
    "\n",
    "\n",
    "if avg_place_21.empty:\n",
    "    augments.loc[augments['Augment ID'] == ags[0], '2-1 Avg Placement'] = placement\n",
    "else:\n",
    "    augments.loc[augments['Augment ID'] == ags[0], '2-1 Avg Placement'] = ((avg_place_21 * games_21) + placement) / (games_21 + 1)\n",
    "\n",
    "if avg_total_place_21.empty:\n",
    "    augments.loc[augments['Augment ID'] == ags[0], 'Total Avg Placement'] = placement\n",
    "else:\n",
    "    augments.loc[augments['Augment ID'] == ags[0], 'Total Avg Placement'] = ((avg_total_place_21 * games_total_21) + placement) / (games_total_21 + 1)\n",
    "\n",
    "augments.loc[augments['Augment ID'] == ags[0], '2-1 Games'] += 1\n",
    "augments.loc[augments['Augment ID'] == ags[0], 'Total Games'] += 1\n",
    "\n",
    "if avg_place_32.empty:\n",
    "    augments.loc[augments['Augment ID'] == ags[1], '3-2 Avg Placement'] = placement\n",
    "else:\n",
    "    augments.loc[augments['Augment ID'] == ags[1], '3-2 Avg Placement'] = ((avg_place_32 * games_32) + placement) / (games_32 + 1)\n",
    "if avg_total_place_32.empty:\n",
    "    augments.loc[augments['Augment ID'] == ags[1], 'Total Avg Placement'] = placement\n",
    "else:\n",
    "    augments.loc[augments['Augment ID'] == ags[1], 'Total Avg Placement'] = ((avg_total_place_32 * games_total_32) + placement) / (games_total_32 + 1)\n",
    "\n",
    "augments.loc[augments['Augment ID'] == ags[1], '3-2 Games'] += 1\n",
    "augments.loc[augments['Augment ID'] == ags[1], 'Total Games'] += 1\n",
    "\n",
    "if avg_place_42.empty:\n",
    "    augments.loc[augments['Augment ID'] == ags[2], '4-2 Avg Placement'] = placement\n",
    "else:\n",
    "    augments.loc[augments['Augment ID'] == ags[2], '4-2 Avg Placement'] = ((avg_place_42 * games_42) + placement) / (games_42 + 1)\n",
    "if avg_total_place_42.empty:\n",
    "    augments.loc[augments['Augment ID'] == ags[2], 'Total Avg Placement'] = placement\n",
    "else:\n",
    "    augments.loc[augments['Augment ID'] == ags[2], 'Total Avg Placement'] = ((avg_total_place_42 * games_total_42) + placement) / (games_total_42 + 1)\n",
    "\n",
    "augments.loc[augments['Augment ID'] == ags[2], '4-2 Games'] += 1\n",
    "augments.loc[augments['Augment ID'] == ags[2], 'Total Games'] += 1"
   ]
  }
 ],
 "metadata": {
  "kernelspec": {
   "display_name": "Python 3.9.16 ('CMSC320')",
   "language": "python",
   "name": "python3"
  },
  "language_info": {
   "codemirror_mode": {
    "name": "ipython",
    "version": 3
   },
   "file_extension": ".py",
   "mimetype": "text/x-python",
   "name": "python",
   "nbconvert_exporter": "python",
   "pygments_lexer": "ipython3",
   "version": "3.9.16"
  },
  "orig_nbformat": 4,
  "vscode": {
   "interpreter": {
    "hash": "432251d35c78bda8673d54f0ff6c24e3e817aa64e42139aeb62117ca8ffcc139"
   }
  }
 },
 "nbformat": 4,
 "nbformat_minor": 2
}
